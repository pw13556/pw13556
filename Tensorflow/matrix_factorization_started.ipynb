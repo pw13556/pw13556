{
 "cells": [
  {
   "cell_type": "code",
   "execution_count": null,
   "metadata": {},
   "outputs": [],
   "source": [
    "import tensorflow as tf\n",
    "import numpy as np\n",
    "from tensorflow.contrib import layers\n",
    "from data import dataprep\n",
    "print(tf.__version__)"
   ]
  },
  {
   "cell_type": "code",
   "execution_count": null,
   "metadata": {
    "collapsed": true
   },
   "outputs": [],
   "source": [
    "train_dict, test_dict = dataprep.mf_train_test()"
   ]
  },
  {
   "cell_type": "code",
   "execution_count": null,
   "metadata": {
    "collapsed": true
   },
   "outputs": [],
   "source": [
    "n_user = train_dict['user_id'].max() + 1\n",
    "n_movie = train_dict['movie_id'].max() + 1\n",
    "n_dim = 20\n",
    "reg_param = 0.01\n",
    "learning_rate = 0.01"
   ]
  },
  {
   "cell_type": "code",
   "execution_count": null,
   "metadata": {
    "collapsed": true
   },
   "outputs": [],
   "source": [
    "# create input place_holders\n",
    "users = tf.placeholder(shape=[None], dtype=tf.int64)\n",
    "movies = tf.placeholder(shape=[None], dtype=tf.int64)\n",
    "ratings = tf.placeholder(shape=[None], dtype=tf.float32)"
   ]
  },
  {
   "cell_type": "code",
   "execution_count": null,
   "metadata": {
    "collapsed": true
   },
   "outputs": [],
   "source": [
    "with tf.variable_scope(\"embedding\"):\n",
    "    user_weight = tf.get_variable(\"user_w\"\n",
    "                                  , shape=[n_user, n_dim]\n",
    "                                  , dtype=tf.float32\n",
    "                                  , initializer=layers.xavier_initializer())\n",
    "    user_bias = tf.get_variable(\"user_b\"\n",
    "                                , shape=[n_user]\n",
    "                                , dtype=tf.float32\n",
    "                                , initializer=tf.zeros_initializer)\n",
    "    movie_weight = tf.get_variable(\"movie_w\"\n",
    "                                   , shape=[n_movie, n_dim]\n",
    "                                   , dtype=tf.float32\n",
    "                                   , initializer=layers.xavier_initializer())\n",
    "    movie_bias = tf.get_variable(\"movie_b\"\n",
    "                                 , shape=[n_movie]\n",
    "                                 , dtype=tf.float32\n",
    "                                 , initializer=tf.zeros_initializer)"
   ]
  },
  {
   "cell_type": "code",
   "execution_count": null,
   "metadata": {
    "collapsed": true
   },
   "outputs": [],
   "source": [
    "tf.reset_default_graph()"
   ]
  },
  {
   "cell_type": "code",
   "execution_count": null,
   "metadata": {
    "collapsed": true
   },
   "outputs": [],
   "source": [
    "with tf.name_scope(\"inference\"):\n",
    "    user_emb = tf.nn.embedding_lookup(user_weight, users)\n",
    "    u_b = tf.nn.embedding_lookup(user_bias, users)\n",
    "    movie_emb = tf.nn.embedding_lookup(movie_weight, movies)\n",
    "    m_b = tf.nn.embedding_lookup(movie_bias, movies)\n",
    "    pred = tf.reduce_sum(tf.multiply(user_emb, movie_emb), 1) + u_b + m_b"
   ]
  },
  {
   "cell_type": "code",
   "execution_count": null,
   "metadata": {
    "collapsed": true
   },
   "outputs": [],
   "source": [
    "with tf.name_scope(\"loss\"):\n",
    "    reg_loss = layers.apply_regularization(layers.l2_regularizer(scale=reg_param),\n",
    "                                           weights_list=[user_weight, movie_weight])\n",
    "    loss = tf.nn.l2_loss(pred - ratings) + reg_loss\n",
    "    train_ops = tf.train.AdamOptimizer(learning_rate=learning_rate).minimize(loss)\n",
    "    rmse = tf.sqrt(tf.reduce_mean(tf.pow(pred - ratings, 2)))"
   ]
  },
  {
   "cell_type": "code",
   "execution_count": null,
   "metadata": {},
   "outputs": [],
   "source": [
    "with tf.Session() as sess:\n",
    "    sess.run(tf.global_variables_initializer())\n",
    "    train_input_dict = {users: train_dict['user_id']\n",
    "        , movies: train_dict['movie_id']\n",
    "        , ratings: train_dict['rating']}\n",
    "    test_input_dict = {users: test_dict['user_id']\n",
    "        , movies: test_dict['movie_id']\n",
    "        , ratings: test_dict['rating']}\n",
    "    for i in range(1000):\n",
    "        sess.run([train_ops], feed_dict=train_input_dict)\n",
    "        if i % 10 == 0:\n",
    "            rmse_train = sess.run(rmse, feed_dict=train_input_dict)\n",
    "            rmse_test = sess.run(rmse, feed_dict=test_input_dict)\n",
    "            print(\"train rmse: %.3f , test rmse %.3f\" % (rmse_train, rmse_test))"
   ]
  }
 ],
 "metadata": {
  "kernelspec": {
   "display_name": "Python 3",
   "language": "python",
   "name": "python3"
  },
  "language_info": {
   "codemirror_mode": {
    "name": "ipython",
    "version": 3
   },
   "file_extension": ".py",
   "mimetype": "text/x-python",
   "name": "python",
   "nbconvert_exporter": "python",
   "pygments_lexer": "ipython3",
   "version": "3.6.1"
  }
 },
 "nbformat": 4,
 "nbformat_minor": 1
}
